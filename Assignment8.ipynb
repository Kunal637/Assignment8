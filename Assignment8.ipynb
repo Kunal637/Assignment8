{
  "nbformat": 4,
  "nbformat_minor": 0,
  "metadata": {
    "colab": {
      "provenance": [],
      "toc_visible": true
    },
    "kernelspec": {
      "name": "python3",
      "display_name": "Python 3"
    },
    "language_info": {
      "name": "python"
    }
  },
  "cells": [
    {
      "cell_type": "code",
      "execution_count": 1,
      "metadata": {
        "id": "JzBYhHsGqtkS"
      },
      "outputs": [],
      "source": [
        "import csv"
      ]
    },
    {
      "cell_type": "code",
      "source": [
        "dir(csv)"
      ],
      "metadata": {
        "colab": {
          "base_uri": "https://localhost:8080/"
        },
        "id": "Nl9KxL6FrZLN",
        "outputId": "2b299305-a6bf-41ef-c71a-876cb105638e"
      },
      "execution_count": 2,
      "outputs": [
        {
          "output_type": "execute_result",
          "data": {
            "text/plain": [
              "['Dialect',\n",
              " 'DictReader',\n",
              " 'DictWriter',\n",
              " 'Error',\n",
              " 'QUOTE_ALL',\n",
              " 'QUOTE_MINIMAL',\n",
              " 'QUOTE_NONE',\n",
              " 'QUOTE_NONNUMERIC',\n",
              " 'Sniffer',\n",
              " 'StringIO',\n",
              " '_Dialect',\n",
              " '__all__',\n",
              " '__builtins__',\n",
              " '__cached__',\n",
              " '__doc__',\n",
              " '__file__',\n",
              " '__loader__',\n",
              " '__name__',\n",
              " '__package__',\n",
              " '__spec__',\n",
              " '__version__',\n",
              " 'excel',\n",
              " 'excel_tab',\n",
              " 'field_size_limit',\n",
              " 'get_dialect',\n",
              " 'list_dialects',\n",
              " 're',\n",
              " 'reader',\n",
              " 'register_dialect',\n",
              " 'unix_dialect',\n",
              " 'unregister_dialect',\n",
              " 'writer']"
            ]
          },
          "metadata": {},
          "execution_count": 2
        }
      ]
    },
    {
      "cell_type": "code",
      "source": [
        "open_file = open('student data.csv',mode='r')\n",
        "open_file"
      ],
      "metadata": {
        "colab": {
          "base_uri": "https://localhost:8080/"
        },
        "id": "gaLrQIocrZOs",
        "outputId": "44439a2e-77d7-4d75-ac3c-fef358f3309e"
      },
      "execution_count": 3,
      "outputs": [
        {
          "output_type": "execute_result",
          "data": {
            "text/plain": [
              "<_io.TextIOWrapper name='student data.csv' mode='r' encoding='UTF-8'>"
            ]
          },
          "metadata": {},
          "execution_count": 3
        }
      ]
    },
    {
      "cell_type": "code",
      "source": [
        "read = csv.reader(open_file)\n",
        "read"
      ],
      "metadata": {
        "colab": {
          "base_uri": "https://localhost:8080/"
        },
        "id": "HyBa1Jn4rZXj",
        "outputId": "ad64ba54-3c54-49f1-923b-ca04b27505af"
      },
      "execution_count": 4,
      "outputs": [
        {
          "output_type": "execute_result",
          "data": {
            "text/plain": [
              "<_csv.reader at 0x7f6a085dcc10>"
            ]
          },
          "metadata": {},
          "execution_count": 4
        }
      ]
    },
    {
      "cell_type": "code",
      "source": [
        "data = list(read)\n",
        "data"
      ],
      "metadata": {
        "colab": {
          "base_uri": "https://localhost:8080/"
        },
        "id": "9gJYObBdrZaX",
        "outputId": "48757df4-fa6d-4111-ce2b-2ceb26f0bdca"
      },
      "execution_count": 5,
      "outputs": [
        {
          "output_type": "execute_result",
          "data": {
            "text/plain": [
              "[['roll no', 'Name', 'Chemistry', 'Physics', 'Math'],\n",
              " ['101', 'Aliza', '50', '23', '87'],\n",
              " ['102', 'Fareed', '45', '24', '88'],\n",
              " ['103', 'Basit', '46', '25', '89'],\n",
              " ['104', 'Abdullah', '47', '26', '90'],\n",
              " ['105', 'Ali', '48', '27', '67'],\n",
              " ['106', 'Mubashir', '49', '28', '68'],\n",
              " ['107', 'Waleed', '50', '29', '69'],\n",
              " ['108', 'Mansoor', '51', '30', '70'],\n",
              " ['109', 'Zain', '52', '31', '71'],\n",
              " ['110', 'Mohsin', '53', '67', '72'],\n",
              " ['111', 'Shahmeer', '54', '68', '73'],\n",
              " ['112', 'Rao', '55', '69', '74'],\n",
              " ['113', 'Aurangzeb', '56', '70', '75'],\n",
              " ['114', 'Zeeshan', '57', '71', '76'],\n",
              " ['115', 'Hamna', '58', '72', '77'],\n",
              " ['116', 'Hamza', '59', '73', '78'],\n",
              " ['117', 'Khalid', '60', '74', '79'],\n",
              " ['118', 'Behroz', '61', '75', '80'],\n",
              " ['119', 'Justin', '62', '76', '81'],\n",
              " ['120', 'Danish', '63', '77', '82'],\n",
              " ['121', 'Kainat', '64', '78', '83'],\n",
              " ['122', 'Sameer', '65', '79', '84'],\n",
              " ['123', 'Raza', '66', '80', '85'],\n",
              " ['124', 'Kumar', '67', '81', '86'],\n",
              " ['125', 'Komal', '68', '82', '87'],\n",
              " ['126', 'Erum', '69', '83', '88'],\n",
              " ['127', 'Faiza', '70', '84', '89'],\n",
              " ['128', 'Saeed', '71', '85', '90'],\n",
              " ['129', 'Waqar', '72', '86', '91'],\n",
              " ['130', 'Wali', '73', '87', '92'],\n",
              " ['131', 'Wajid', '74', '88', '93'],\n",
              " ['132', 'Waseeb', '75', '89', '94'],\n",
              " ['133', 'Shiza', '76', '90', '95'],\n",
              " ['134', 'Shabina', '77', '91', '96'],\n",
              " ['135', 'Shazain', '78', '55', '97'],\n",
              " ['136', 'Lubna', '79', '61', '98'],\n",
              " ['137', 'Laiba', '80', '88', '78'],\n",
              " ['138', 'Khursheed', '81', '56', '45'],\n",
              " ['139', 'Ali', '82', '89', '46'],\n",
              " ['140', 'Aiza', '83', '45', '89'],\n",
              " ['141', 'Aiman', '84', '92', '78'],\n",
              " ['142', 'Yasmeen', '85', '36', '56'],\n",
              " ['143', 'Tasbeel', '86', '78', '78'],\n",
              " ['144', 'Laraib', '87', '56', '54'],\n",
              " ['145', 'Saleem', '88', '78', '78'],\n",
              " ['146', 'Bismil', '89', '89', '46'],\n",
              " ['147', 'Batool', '90', '56', '79'],\n",
              " ['148', 'Iqra', '91', '33', '46'],\n",
              " ['149', 'Zarnish', '92', '78', '45'],\n",
              " ['150', 'Zara', '83', '45', '56']]"
            ]
          },
          "metadata": {},
          "execution_count": 5
        }
      ]
    },
    {
      "cell_type": "code",
      "source": [
        "header = data[0]\n",
        "header"
      ],
      "metadata": {
        "colab": {
          "base_uri": "https://localhost:8080/"
        },
        "id": "Ju132lUQrZdu",
        "outputId": "d6822499-d82a-4165-9d17-48601b49b4a6"
      },
      "execution_count": 6,
      "outputs": [
        {
          "output_type": "execute_result",
          "data": {
            "text/plain": [
              "['roll no', 'Name', 'Chemistry', 'Physics', 'Math']"
            ]
          },
          "metadata": {},
          "execution_count": 6
        }
      ]
    },
    {
      "cell_type": "code",
      "source": [
        "student_data = data[1:]\n",
        "student_data"
      ],
      "metadata": {
        "colab": {
          "base_uri": "https://localhost:8080/"
        },
        "id": "pERUaOYXrZgp",
        "outputId": "0fe44467-3cd8-4b36-a9fe-a81fba3343ed"
      },
      "execution_count": 7,
      "outputs": [
        {
          "output_type": "execute_result",
          "data": {
            "text/plain": [
              "[['101', 'Aliza', '50', '23', '87'],\n",
              " ['102', 'Fareed', '45', '24', '88'],\n",
              " ['103', 'Basit', '46', '25', '89'],\n",
              " ['104', 'Abdullah', '47', '26', '90'],\n",
              " ['105', 'Ali', '48', '27', '67'],\n",
              " ['106', 'Mubashir', '49', '28', '68'],\n",
              " ['107', 'Waleed', '50', '29', '69'],\n",
              " ['108', 'Mansoor', '51', '30', '70'],\n",
              " ['109', 'Zain', '52', '31', '71'],\n",
              " ['110', 'Mohsin', '53', '67', '72'],\n",
              " ['111', 'Shahmeer', '54', '68', '73'],\n",
              " ['112', 'Rao', '55', '69', '74'],\n",
              " ['113', 'Aurangzeb', '56', '70', '75'],\n",
              " ['114', 'Zeeshan', '57', '71', '76'],\n",
              " ['115', 'Hamna', '58', '72', '77'],\n",
              " ['116', 'Hamza', '59', '73', '78'],\n",
              " ['117', 'Khalid', '60', '74', '79'],\n",
              " ['118', 'Behroz', '61', '75', '80'],\n",
              " ['119', 'Justin', '62', '76', '81'],\n",
              " ['120', 'Danish', '63', '77', '82'],\n",
              " ['121', 'Kainat', '64', '78', '83'],\n",
              " ['122', 'Sameer', '65', '79', '84'],\n",
              " ['123', 'Raza', '66', '80', '85'],\n",
              " ['124', 'Kumar', '67', '81', '86'],\n",
              " ['125', 'Komal', '68', '82', '87'],\n",
              " ['126', 'Erum', '69', '83', '88'],\n",
              " ['127', 'Faiza', '70', '84', '89'],\n",
              " ['128', 'Saeed', '71', '85', '90'],\n",
              " ['129', 'Waqar', '72', '86', '91'],\n",
              " ['130', 'Wali', '73', '87', '92'],\n",
              " ['131', 'Wajid', '74', '88', '93'],\n",
              " ['132', 'Waseeb', '75', '89', '94'],\n",
              " ['133', 'Shiza', '76', '90', '95'],\n",
              " ['134', 'Shabina', '77', '91', '96'],\n",
              " ['135', 'Shazain', '78', '55', '97'],\n",
              " ['136', 'Lubna', '79', '61', '98'],\n",
              " ['137', 'Laiba', '80', '88', '78'],\n",
              " ['138', 'Khursheed', '81', '56', '45'],\n",
              " ['139', 'Ali', '82', '89', '46'],\n",
              " ['140', 'Aiza', '83', '45', '89'],\n",
              " ['141', 'Aiman', '84', '92', '78'],\n",
              " ['142', 'Yasmeen', '85', '36', '56'],\n",
              " ['143', 'Tasbeel', '86', '78', '78'],\n",
              " ['144', 'Laraib', '87', '56', '54'],\n",
              " ['145', 'Saleem', '88', '78', '78'],\n",
              " ['146', 'Bismil', '89', '89', '46'],\n",
              " ['147', 'Batool', '90', '56', '79'],\n",
              " ['148', 'Iqra', '91', '33', '46'],\n",
              " ['149', 'Zarnish', '92', '78', '45'],\n",
              " ['150', 'Zara', '83', '45', '56']]"
            ]
          },
          "metadata": {},
          "execution_count": 7
        }
      ]
    },
    {
      "cell_type": "code",
      "source": [
        "student_data[0][2]"
      ],
      "metadata": {
        "colab": {
          "base_uri": "https://localhost:8080/",
          "height": 36
        },
        "id": "g4f73KYrrZjx",
        "outputId": "d70977d4-64d5-406f-9cc1-773fa605d861"
      },
      "execution_count": 8,
      "outputs": [
        {
          "output_type": "execute_result",
          "data": {
            "text/plain": [
              "'50'"
            ],
            "application/vnd.google.colaboratory.intrinsic+json": {
              "type": "string"
            }
          },
          "metadata": {},
          "execution_count": 8
        }
      ]
    },
    {
      "cell_type": "code",
      "source": [
        "chem_marks = [float(i[2]) for i in student_data]\n",
        "chem_marks"
      ],
      "metadata": {
        "colab": {
          "base_uri": "https://localhost:8080/"
        },
        "id": "NxdLUCanrZv2",
        "outputId": "c7b2a538-e281-4edc-d5c5-783d6843fb72"
      },
      "execution_count": 9,
      "outputs": [
        {
          "output_type": "execute_result",
          "data": {
            "text/plain": [
              "[50.0,\n",
              " 45.0,\n",
              " 46.0,\n",
              " 47.0,\n",
              " 48.0,\n",
              " 49.0,\n",
              " 50.0,\n",
              " 51.0,\n",
              " 52.0,\n",
              " 53.0,\n",
              " 54.0,\n",
              " 55.0,\n",
              " 56.0,\n",
              " 57.0,\n",
              " 58.0,\n",
              " 59.0,\n",
              " 60.0,\n",
              " 61.0,\n",
              " 62.0,\n",
              " 63.0,\n",
              " 64.0,\n",
              " 65.0,\n",
              " 66.0,\n",
              " 67.0,\n",
              " 68.0,\n",
              " 69.0,\n",
              " 70.0,\n",
              " 71.0,\n",
              " 72.0,\n",
              " 73.0,\n",
              " 74.0,\n",
              " 75.0,\n",
              " 76.0,\n",
              " 77.0,\n",
              " 78.0,\n",
              " 79.0,\n",
              " 80.0,\n",
              " 81.0,\n",
              " 82.0,\n",
              " 83.0,\n",
              " 84.0,\n",
              " 85.0,\n",
              " 86.0,\n",
              " 87.0,\n",
              " 88.0,\n",
              " 89.0,\n",
              " 90.0,\n",
              " 91.0,\n",
              " 92.0,\n",
              " 83.0]"
            ]
          },
          "metadata": {},
          "execution_count": 9
        }
      ]
    },
    {
      "cell_type": "code",
      "source": [
        "len(chem_marks)"
      ],
      "metadata": {
        "colab": {
          "base_uri": "https://localhost:8080/"
        },
        "id": "B0UJCJrTrZyt",
        "outputId": "1978beb6-c214-4cb3-d0dc-7c43364d0024"
      },
      "execution_count": 10,
      "outputs": [
        {
          "output_type": "execute_result",
          "data": {
            "text/plain": [
              "50"
            ]
          },
          "metadata": {},
          "execution_count": 10
        }
      ]
    },
    {
      "cell_type": "code",
      "source": [
        "Avg_chem_mark = sum(chem_marks)/len(chem_marks)\n",
        "Avg_chem_mark"
      ],
      "metadata": {
        "colab": {
          "base_uri": "https://localhost:8080/"
        },
        "id": "AbMHhw0grZ2N",
        "outputId": "96339822-cde8-456c-8d4a-d667227fc80d"
      },
      "execution_count": 11,
      "outputs": [
        {
          "output_type": "execute_result",
          "data": {
            "text/plain": [
              "68.42"
            ]
          },
          "metadata": {},
          "execution_count": 11
        }
      ]
    },
    {
      "cell_type": "code",
      "source": [
        "phys_marks = [float(i[3]) for i in student_data]\n",
        "phys_marks"
      ],
      "metadata": {
        "colab": {
          "base_uri": "https://localhost:8080/"
        },
        "id": "UbCc_b4dsXvg",
        "outputId": "fcf76b43-300f-44b0-e108-15f7c10d00f9"
      },
      "execution_count": 12,
      "outputs": [
        {
          "output_type": "execute_result",
          "data": {
            "text/plain": [
              "[23.0,\n",
              " 24.0,\n",
              " 25.0,\n",
              " 26.0,\n",
              " 27.0,\n",
              " 28.0,\n",
              " 29.0,\n",
              " 30.0,\n",
              " 31.0,\n",
              " 67.0,\n",
              " 68.0,\n",
              " 69.0,\n",
              " 70.0,\n",
              " 71.0,\n",
              " 72.0,\n",
              " 73.0,\n",
              " 74.0,\n",
              " 75.0,\n",
              " 76.0,\n",
              " 77.0,\n",
              " 78.0,\n",
              " 79.0,\n",
              " 80.0,\n",
              " 81.0,\n",
              " 82.0,\n",
              " 83.0,\n",
              " 84.0,\n",
              " 85.0,\n",
              " 86.0,\n",
              " 87.0,\n",
              " 88.0,\n",
              " 89.0,\n",
              " 90.0,\n",
              " 91.0,\n",
              " 55.0,\n",
              " 61.0,\n",
              " 88.0,\n",
              " 56.0,\n",
              " 89.0,\n",
              " 45.0,\n",
              " 92.0,\n",
              " 36.0,\n",
              " 78.0,\n",
              " 56.0,\n",
              " 78.0,\n",
              " 89.0,\n",
              " 56.0,\n",
              " 33.0,\n",
              " 78.0,\n",
              " 45.0]"
            ]
          },
          "metadata": {},
          "execution_count": 12
        }
      ]
    },
    {
      "cell_type": "code",
      "source": [
        "sum(phys_marks)"
      ],
      "metadata": {
        "colab": {
          "base_uri": "https://localhost:8080/"
        },
        "id": "AetDWJBZsXyU",
        "outputId": "a251c229-089b-472b-ae05-46d90aba2635"
      },
      "execution_count": 13,
      "outputs": [
        {
          "output_type": "execute_result",
          "data": {
            "text/plain": [
              "3253.0"
            ]
          },
          "metadata": {},
          "execution_count": 13
        }
      ]
    },
    {
      "cell_type": "code",
      "source": [
        "len(phys_marks)"
      ],
      "metadata": {
        "colab": {
          "base_uri": "https://localhost:8080/"
        },
        "id": "-PVWT8U-sX1V",
        "outputId": "fb6caf81-54b1-417b-f4ac-171e7b6fa941"
      },
      "execution_count": 14,
      "outputs": [
        {
          "output_type": "execute_result",
          "data": {
            "text/plain": [
              "50"
            ]
          },
          "metadata": {},
          "execution_count": 14
        }
      ]
    },
    {
      "cell_type": "code",
      "source": [
        "Avg_phys_marks = sum(phys_marks)/len(phys_marks)\n",
        "Avg_phys_marks"
      ],
      "metadata": {
        "colab": {
          "base_uri": "https://localhost:8080/"
        },
        "id": "YEHrzbwysX4F",
        "outputId": "3049fc96-7778-466d-a2a1-00bb447e76c8"
      },
      "execution_count": 15,
      "outputs": [
        {
          "output_type": "execute_result",
          "data": {
            "text/plain": [
              "65.06"
            ]
          },
          "metadata": {},
          "execution_count": 15
        }
      ]
    },
    {
      "cell_type": "code",
      "source": [
        "math_marks = [float(i[4]) for i in student_data]\n",
        "math_marks"
      ],
      "metadata": {
        "colab": {
          "base_uri": "https://localhost:8080/"
        },
        "id": "lVCdtYtXsX7O",
        "outputId": "efbecb56-3d0d-4a80-c64f-92fe1c606e0f"
      },
      "execution_count": 16,
      "outputs": [
        {
          "output_type": "execute_result",
          "data": {
            "text/plain": [
              "[87.0,\n",
              " 88.0,\n",
              " 89.0,\n",
              " 90.0,\n",
              " 67.0,\n",
              " 68.0,\n",
              " 69.0,\n",
              " 70.0,\n",
              " 71.0,\n",
              " 72.0,\n",
              " 73.0,\n",
              " 74.0,\n",
              " 75.0,\n",
              " 76.0,\n",
              " 77.0,\n",
              " 78.0,\n",
              " 79.0,\n",
              " 80.0,\n",
              " 81.0,\n",
              " 82.0,\n",
              " 83.0,\n",
              " 84.0,\n",
              " 85.0,\n",
              " 86.0,\n",
              " 87.0,\n",
              " 88.0,\n",
              " 89.0,\n",
              " 90.0,\n",
              " 91.0,\n",
              " 92.0,\n",
              " 93.0,\n",
              " 94.0,\n",
              " 95.0,\n",
              " 96.0,\n",
              " 97.0,\n",
              " 98.0,\n",
              " 78.0,\n",
              " 45.0,\n",
              " 46.0,\n",
              " 89.0,\n",
              " 78.0,\n",
              " 56.0,\n",
              " 78.0,\n",
              " 54.0,\n",
              " 78.0,\n",
              " 46.0,\n",
              " 79.0,\n",
              " 46.0,\n",
              " 45.0,\n",
              " 56.0]"
            ]
          },
          "metadata": {},
          "execution_count": 16
        }
      ]
    },
    {
      "cell_type": "code",
      "source": [
        "sum(math_marks)"
      ],
      "metadata": {
        "colab": {
          "base_uri": "https://localhost:8080/"
        },
        "id": "nHPWZwjbsX_p",
        "outputId": "509ba4e1-4e06-4c26-a116-24136a8ecb50"
      },
      "execution_count": 17,
      "outputs": [
        {
          "output_type": "execute_result",
          "data": {
            "text/plain": [
              "3868.0"
            ]
          },
          "metadata": {},
          "execution_count": 17
        }
      ]
    },
    {
      "cell_type": "code",
      "source": [
        "len(math_marks)"
      ],
      "metadata": {
        "colab": {
          "base_uri": "https://localhost:8080/"
        },
        "id": "WUwQHqAksYC2",
        "outputId": "b45d965f-b506-4701-e907-cb3a2d1c4fd5"
      },
      "execution_count": 18,
      "outputs": [
        {
          "output_type": "execute_result",
          "data": {
            "text/plain": [
              "50"
            ]
          },
          "metadata": {},
          "execution_count": 18
        }
      ]
    },
    {
      "cell_type": "code",
      "source": [
        "avg_math_marks = sum(math_marks)/len(math_marks)\n",
        "avg_math_marks"
      ],
      "metadata": {
        "colab": {
          "base_uri": "https://localhost:8080/"
        },
        "id": "bX5UNqn8sYE1",
        "outputId": "cd2c3669-d60b-4040-ec2e-bebac9d16954"
      },
      "execution_count": 19,
      "outputs": [
        {
          "output_type": "execute_result",
          "data": {
            "text/plain": [
              "77.36"
            ]
          },
          "metadata": {},
          "execution_count": 19
        }
      ]
    },
    {
      "cell_type": "code",
      "source": [
        "student_data"
      ],
      "metadata": {
        "colab": {
          "base_uri": "https://localhost:8080/"
        },
        "id": "qU0hcryZsYHJ",
        "outputId": "386a3e7d-befb-4ecf-e90f-20e0983c2f6e"
      },
      "execution_count": 20,
      "outputs": [
        {
          "output_type": "execute_result",
          "data": {
            "text/plain": [
              "[['101', 'Aliza', '50', '23', '87'],\n",
              " ['102', 'Fareed', '45', '24', '88'],\n",
              " ['103', 'Basit', '46', '25', '89'],\n",
              " ['104', 'Abdullah', '47', '26', '90'],\n",
              " ['105', 'Ali', '48', '27', '67'],\n",
              " ['106', 'Mubashir', '49', '28', '68'],\n",
              " ['107', 'Waleed', '50', '29', '69'],\n",
              " ['108', 'Mansoor', '51', '30', '70'],\n",
              " ['109', 'Zain', '52', '31', '71'],\n",
              " ['110', 'Mohsin', '53', '67', '72'],\n",
              " ['111', 'Shahmeer', '54', '68', '73'],\n",
              " ['112', 'Rao', '55', '69', '74'],\n",
              " ['113', 'Aurangzeb', '56', '70', '75'],\n",
              " ['114', 'Zeeshan', '57', '71', '76'],\n",
              " ['115', 'Hamna', '58', '72', '77'],\n",
              " ['116', 'Hamza', '59', '73', '78'],\n",
              " ['117', 'Khalid', '60', '74', '79'],\n",
              " ['118', 'Behroz', '61', '75', '80'],\n",
              " ['119', 'Justin', '62', '76', '81'],\n",
              " ['120', 'Danish', '63', '77', '82'],\n",
              " ['121', 'Kainat', '64', '78', '83'],\n",
              " ['122', 'Sameer', '65', '79', '84'],\n",
              " ['123', 'Raza', '66', '80', '85'],\n",
              " ['124', 'Kumar', '67', '81', '86'],\n",
              " ['125', 'Komal', '68', '82', '87'],\n",
              " ['126', 'Erum', '69', '83', '88'],\n",
              " ['127', 'Faiza', '70', '84', '89'],\n",
              " ['128', 'Saeed', '71', '85', '90'],\n",
              " ['129', 'Waqar', '72', '86', '91'],\n",
              " ['130', 'Wali', '73', '87', '92'],\n",
              " ['131', 'Wajid', '74', '88', '93'],\n",
              " ['132', 'Waseeb', '75', '89', '94'],\n",
              " ['133', 'Shiza', '76', '90', '95'],\n",
              " ['134', 'Shabina', '77', '91', '96'],\n",
              " ['135', 'Shazain', '78', '55', '97'],\n",
              " ['136', 'Lubna', '79', '61', '98'],\n",
              " ['137', 'Laiba', '80', '88', '78'],\n",
              " ['138', 'Khursheed', '81', '56', '45'],\n",
              " ['139', 'Ali', '82', '89', '46'],\n",
              " ['140', 'Aiza', '83', '45', '89'],\n",
              " ['141', 'Aiman', '84', '92', '78'],\n",
              " ['142', 'Yasmeen', '85', '36', '56'],\n",
              " ['143', 'Tasbeel', '86', '78', '78'],\n",
              " ['144', 'Laraib', '87', '56', '54'],\n",
              " ['145', 'Saleem', '88', '78', '78'],\n",
              " ['146', 'Bismil', '89', '89', '46'],\n",
              " ['147', 'Batool', '90', '56', '79'],\n",
              " ['148', 'Iqra', '91', '33', '46'],\n",
              " ['149', 'Zarnish', '92', '78', '45'],\n",
              " ['150', 'Zara', '83', '45', '56']]"
            ]
          },
          "metadata": {},
          "execution_count": 20
        }
      ]
    },
    {
      "cell_type": "code",
      "source": [
        "for per in student_data:\n",
        "    chem = int(per[2])\n",
        "    phy = int(per[3])\n",
        "    math = int(per[4])\n",
        "    percentage = round((chem+phy+math)/300*100,1)\n",
        "    # print(percentage)\n",
        "    # print(per)\n",
        "    per.append(percentage)"
      ],
      "metadata": {
        "id": "SF66OgPmsYJ-"
      },
      "execution_count": 21,
      "outputs": []
    },
    {
      "cell_type": "code",
      "source": [
        "student_data"
      ],
      "metadata": {
        "colab": {
          "base_uri": "https://localhost:8080/"
        },
        "id": "xX_wtSngsYM_",
        "outputId": "4ec66518-a5e9-4bfb-b636-452785ab4767"
      },
      "execution_count": 22,
      "outputs": [
        {
          "output_type": "execute_result",
          "data": {
            "text/plain": [
              "[['101', 'Aliza', '50', '23', '87', 53.3],\n",
              " ['102', 'Fareed', '45', '24', '88', 52.3],\n",
              " ['103', 'Basit', '46', '25', '89', 53.3],\n",
              " ['104', 'Abdullah', '47', '26', '90', 54.3],\n",
              " ['105', 'Ali', '48', '27', '67', 47.3],\n",
              " ['106', 'Mubashir', '49', '28', '68', 48.3],\n",
              " ['107', 'Waleed', '50', '29', '69', 49.3],\n",
              " ['108', 'Mansoor', '51', '30', '70', 50.3],\n",
              " ['109', 'Zain', '52', '31', '71', 51.3],\n",
              " ['110', 'Mohsin', '53', '67', '72', 64.0],\n",
              " ['111', 'Shahmeer', '54', '68', '73', 65.0],\n",
              " ['112', 'Rao', '55', '69', '74', 66.0],\n",
              " ['113', 'Aurangzeb', '56', '70', '75', 67.0],\n",
              " ['114', 'Zeeshan', '57', '71', '76', 68.0],\n",
              " ['115', 'Hamna', '58', '72', '77', 69.0],\n",
              " ['116', 'Hamza', '59', '73', '78', 70.0],\n",
              " ['117', 'Khalid', '60', '74', '79', 71.0],\n",
              " ['118', 'Behroz', '61', '75', '80', 72.0],\n",
              " ['119', 'Justin', '62', '76', '81', 73.0],\n",
              " ['120', 'Danish', '63', '77', '82', 74.0],\n",
              " ['121', 'Kainat', '64', '78', '83', 75.0],\n",
              " ['122', 'Sameer', '65', '79', '84', 76.0],\n",
              " ['123', 'Raza', '66', '80', '85', 77.0],\n",
              " ['124', 'Kumar', '67', '81', '86', 78.0],\n",
              " ['125', 'Komal', '68', '82', '87', 79.0],\n",
              " ['126', 'Erum', '69', '83', '88', 80.0],\n",
              " ['127', 'Faiza', '70', '84', '89', 81.0],\n",
              " ['128', 'Saeed', '71', '85', '90', 82.0],\n",
              " ['129', 'Waqar', '72', '86', '91', 83.0],\n",
              " ['130', 'Wali', '73', '87', '92', 84.0],\n",
              " ['131', 'Wajid', '74', '88', '93', 85.0],\n",
              " ['132', 'Waseeb', '75', '89', '94', 86.0],\n",
              " ['133', 'Shiza', '76', '90', '95', 87.0],\n",
              " ['134', 'Shabina', '77', '91', '96', 88.0],\n",
              " ['135', 'Shazain', '78', '55', '97', 76.7],\n",
              " ['136', 'Lubna', '79', '61', '98', 79.3],\n",
              " ['137', 'Laiba', '80', '88', '78', 82.0],\n",
              " ['138', 'Khursheed', '81', '56', '45', 60.7],\n",
              " ['139', 'Ali', '82', '89', '46', 72.3],\n",
              " ['140', 'Aiza', '83', '45', '89', 72.3],\n",
              " ['141', 'Aiman', '84', '92', '78', 84.7],\n",
              " ['142', 'Yasmeen', '85', '36', '56', 59.0],\n",
              " ['143', 'Tasbeel', '86', '78', '78', 80.7],\n",
              " ['144', 'Laraib', '87', '56', '54', 65.7],\n",
              " ['145', 'Saleem', '88', '78', '78', 81.3],\n",
              " ['146', 'Bismil', '89', '89', '46', 74.7],\n",
              " ['147', 'Batool', '90', '56', '79', 75.0],\n",
              " ['148', 'Iqra', '91', '33', '46', 56.7],\n",
              " ['149', 'Zarnish', '92', '78', '45', 71.7],\n",
              " ['150', 'Zara', '83', '45', '56', 61.3]]"
            ]
          },
          "metadata": {},
          "execution_count": 22
        }
      ]
    },
    {
      "cell_type": "code",
      "source": [
        "round((83+45+56)/300*100,1)"
      ],
      "metadata": {
        "colab": {
          "base_uri": "https://localhost:8080/"
        },
        "id": "IcukvWAwsYQl",
        "outputId": "26efa95d-2ff8-41fd-8be9-7baeb17ff5fe"
      },
      "execution_count": 23,
      "outputs": [
        {
          "output_type": "execute_result",
          "data": {
            "text/plain": [
              "61.3"
            ]
          },
          "metadata": {},
          "execution_count": 23
        }
      ]
    },
    {
      "cell_type": "code",
      "source": [
        "data[0].append('Percentage')"
      ],
      "metadata": {
        "id": "xB0GQD78ta-X"
      },
      "execution_count": 24,
      "outputs": []
    },
    {
      "cell_type": "code",
      "source": [
        "data"
      ],
      "metadata": {
        "colab": {
          "base_uri": "https://localhost:8080/"
        },
        "id": "21qe3410tbBL",
        "outputId": "e1b48e2d-272e-464a-dc19-0c37982ef924"
      },
      "execution_count": 25,
      "outputs": [
        {
          "output_type": "execute_result",
          "data": {
            "text/plain": [
              "[['roll no', 'Name', 'Chemistry', 'Physics', 'Math', 'Percentage'],\n",
              " ['101', 'Aliza', '50', '23', '87', 53.3],\n",
              " ['102', 'Fareed', '45', '24', '88', 52.3],\n",
              " ['103', 'Basit', '46', '25', '89', 53.3],\n",
              " ['104', 'Abdullah', '47', '26', '90', 54.3],\n",
              " ['105', 'Ali', '48', '27', '67', 47.3],\n",
              " ['106', 'Mubashir', '49', '28', '68', 48.3],\n",
              " ['107', 'Waleed', '50', '29', '69', 49.3],\n",
              " ['108', 'Mansoor', '51', '30', '70', 50.3],\n",
              " ['109', 'Zain', '52', '31', '71', 51.3],\n",
              " ['110', 'Mohsin', '53', '67', '72', 64.0],\n",
              " ['111', 'Shahmeer', '54', '68', '73', 65.0],\n",
              " ['112', 'Rao', '55', '69', '74', 66.0],\n",
              " ['113', 'Aurangzeb', '56', '70', '75', 67.0],\n",
              " ['114', 'Zeeshan', '57', '71', '76', 68.0],\n",
              " ['115', 'Hamna', '58', '72', '77', 69.0],\n",
              " ['116', 'Hamza', '59', '73', '78', 70.0],\n",
              " ['117', 'Khalid', '60', '74', '79', 71.0],\n",
              " ['118', 'Behroz', '61', '75', '80', 72.0],\n",
              " ['119', 'Justin', '62', '76', '81', 73.0],\n",
              " ['120', 'Danish', '63', '77', '82', 74.0],\n",
              " ['121', 'Kainat', '64', '78', '83', 75.0],\n",
              " ['122', 'Sameer', '65', '79', '84', 76.0],\n",
              " ['123', 'Raza', '66', '80', '85', 77.0],\n",
              " ['124', 'Kumar', '67', '81', '86', 78.0],\n",
              " ['125', 'Komal', '68', '82', '87', 79.0],\n",
              " ['126', 'Erum', '69', '83', '88', 80.0],\n",
              " ['127', 'Faiza', '70', '84', '89', 81.0],\n",
              " ['128', 'Saeed', '71', '85', '90', 82.0],\n",
              " ['129', 'Waqar', '72', '86', '91', 83.0],\n",
              " ['130', 'Wali', '73', '87', '92', 84.0],\n",
              " ['131', 'Wajid', '74', '88', '93', 85.0],\n",
              " ['132', 'Waseeb', '75', '89', '94', 86.0],\n",
              " ['133', 'Shiza', '76', '90', '95', 87.0],\n",
              " ['134', 'Shabina', '77', '91', '96', 88.0],\n",
              " ['135', 'Shazain', '78', '55', '97', 76.7],\n",
              " ['136', 'Lubna', '79', '61', '98', 79.3],\n",
              " ['137', 'Laiba', '80', '88', '78', 82.0],\n",
              " ['138', 'Khursheed', '81', '56', '45', 60.7],\n",
              " ['139', 'Ali', '82', '89', '46', 72.3],\n",
              " ['140', 'Aiza', '83', '45', '89', 72.3],\n",
              " ['141', 'Aiman', '84', '92', '78', 84.7],\n",
              " ['142', 'Yasmeen', '85', '36', '56', 59.0],\n",
              " ['143', 'Tasbeel', '86', '78', '78', 80.7],\n",
              " ['144', 'Laraib', '87', '56', '54', 65.7],\n",
              " ['145', 'Saleem', '88', '78', '78', 81.3],\n",
              " ['146', 'Bismil', '89', '89', '46', 74.7],\n",
              " ['147', 'Batool', '90', '56', '79', 75.0],\n",
              " ['148', 'Iqra', '91', '33', '46', 56.7],\n",
              " ['149', 'Zarnish', '92', '78', '45', 71.7],\n",
              " ['150', 'Zara', '83', '45', '56', 61.3]]"
            ]
          },
          "metadata": {},
          "execution_count": 25
        }
      ]
    },
    {
      "cell_type": "code",
      "source": [
        "open_file = open(\"data.csv\",mode='w',newline='')\n",
        "open_file"
      ],
      "metadata": {
        "colab": {
          "base_uri": "https://localhost:8080/"
        },
        "id": "ePMhWI5ltbDr",
        "outputId": "adde9dc2-20a3-4ef8-81ee-6675ca87f4dd"
      },
      "execution_count": 26,
      "outputs": [
        {
          "output_type": "execute_result",
          "data": {
            "text/plain": [
              "<_io.TextIOWrapper name='data.csv' mode='w' encoding='UTF-8'>"
            ]
          },
          "metadata": {},
          "execution_count": 26
        }
      ]
    },
    {
      "cell_type": "code",
      "source": [
        "writer = csv.writer(open_file)\n",
        "writer"
      ],
      "metadata": {
        "colab": {
          "base_uri": "https://localhost:8080/"
        },
        "id": "iB5O0MZYtbHL",
        "outputId": "15a78a83-5bb6-4f60-b8c1-0a08bc0d17b2"
      },
      "execution_count": 27,
      "outputs": [
        {
          "output_type": "execute_result",
          "data": {
            "text/plain": [
              "<_csv.writer at 0x7f6a085d9d20>"
            ]
          },
          "metadata": {},
          "execution_count": 27
        }
      ]
    },
    {
      "cell_type": "code",
      "source": [
        "writer.writerows(data)"
      ],
      "metadata": {
        "id": "PpdBYSmXtm9R"
      },
      "execution_count": 28,
      "outputs": []
    },
    {
      "cell_type": "code",
      "source": [
        "open_file.close()"
      ],
      "metadata": {
        "id": "slgm6E9Stm_c"
      },
      "execution_count": 29,
      "outputs": []
    }
  ]
}